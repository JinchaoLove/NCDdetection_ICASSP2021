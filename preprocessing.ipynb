{
 "cells": [
  {
   "cell_type": "code",
   "execution_count": null,
   "metadata": {},
   "outputs": [],
   "source": [
    "import opensmile\n",
    "import pandas as pd\n",
    "from glob import glob"
   ]
  },
  {
   "cell_type": "code",
   "execution_count": null,
   "metadata": {},
   "outputs": [],
   "source": [
    "def feat_compare(filePaths, csvName=None):\n",
    "    smile = opensmile.Smile(\n",
    "        feature_set=opensmile.FeatureSet.ComParE_2016,\n",
    "        feature_level=opensmile.FeatureLevel.Functionals,\n",
    "        # feature_level: Functionals, LowLevelDescriptors, LowLevelDescriptors_Deltas\n",
    "    )\n",
    "    df = pd.DataFrame()\n",
    "    for fn in filePaths:\n",
    "        df = df.append(smile.process_file(fn))\n",
    "    if csvName is not None:\n",
    "        df.to_csv(csvName, index=False)\n",
    "    return df"
   ]
  },
  {
   "cell_type": "code",
   "execution_count": null,
   "metadata": {},
   "outputs": [],
   "source": [
    "data_path = '../ADReSS-IS2020-data'\n",
    "if 0:\n",
    "    df_test = feat_compare(sorted(glob(data_path+'/test/par/*.wav')))\n",
    "    df_train_cc = feat_compare(sorted(glob(data_path+'/train/par/cc/*.wav')))\n",
    "    df_train_cd = feat_compare(sorted(glob(data_path+'/train/par/cd/*.wav')))\n",
    "    df_test.to_csv('feats/ComPaRE_tst.csv')\n",
    "    df_train_cc.to_csv('feats/ComPaRE_cc.csv')\n",
    "    df_train_cd.to_csv('feats/ComPaRE_cd.csv')"
   ]
  },
  {
   "cell_type": "code",
   "execution_count": null,
   "metadata": {},
   "outputs": [],
   "source": [
    "df_train_cc = pd.read_csv('feats/compare_cc.csv')\n",
    "df_train_cd = pd.read_csv('feats/compare_cd.csv')\n",
    "df_train = pd.concat([df_train_cc, df_train_cd], ignore_index=True)\n",
    "df_train.drop(['start','end'], axis=1, inplace=True)\n",
    "df_train = df_train.rename(columns={'file': 'id'})\n",
    "df_train['id'] = df_train['id'].apply(lambda x: x[-8:-4])\n",
    "\n",
    "df_test = pd.read_csv('feats/compare_tst.csv')\n",
    "df_test.drop(['start','end'], axis=1, inplace=True)\n",
    "df_test = df_test.rename(columns={'file': 'id'})\n",
    "df_test['id'] = df_test['id'].apply(lambda x: x[-8:-4])\n",
    "\n",
    "chas_trn = pd.read_csv('feats/chas_trn.csv', usecols=['id', 'sex', 'age', 'ad'])\n",
    "chas_tst = pd.read_csv('feats/chas_tst.csv', usecols=['id', 'sex', 'age'])"
   ]
  },
  {
   "cell_type": "code",
   "execution_count": null,
   "metadata": {},
   "outputs": [],
   "source": [
    "chas_trn = chas_trn.sort_values(by=['id']).reset_index(drop=True)\n",
    "chas_tst = chas_tst.sort_values(by=['id']).reset_index(drop=True)\n",
    "compare_trn = pd.merge(chas_trn, df_train, on=\"id\")\n",
    "compare_tst = pd.merge(chas_tst, df_test, on=\"id\")\n",
    "compare_trn.to_csv('feats/compare_par_trn.csv', index=False)\n",
    "compare_tst.to_csv('feats/compare_par_tst.csv', index=False)"
   ]
  }
 ],
 "metadata": {
  "kernelspec": {
   "display_name": "Python 3",
   "language": "python",
   "name": "python3"
  },
  "language_info": {
   "codemirror_mode": {
    "name": "ipython",
    "version": 3
   },
   "file_extension": ".py",
   "mimetype": "text/x-python",
   "name": "python",
   "nbconvert_exporter": "python",
   "pygments_lexer": "ipython3",
   "version": "3.8.3-final"
  },
  "orig_nbformat": 2
 },
 "nbformat": 4,
 "nbformat_minor": 2
}
